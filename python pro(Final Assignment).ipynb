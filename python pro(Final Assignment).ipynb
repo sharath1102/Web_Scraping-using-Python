{
 "cells": [
  {
   "cell_type": "markdown",
   "id": "aa4248c2-dd27-444c-8ac7-fbb84941233d",
   "metadata": {},
   "source": [
    "<p style=\"text-align:center\">\n",
    "    <a href=\"https://skills.network/?utm_medium=Exinfluencer&utm_source=Exinfluencer&utm_content=000026UJ&utm_term=10006555&utm_id=NA-SkillsNetwork-Channel-SkillsNetworkCoursesIBMDeveloperSkillsNetworkPY0220ENSkillsNetwork900-2022-01-01\" target=\"_blank\">\n",
    "    <img src=\"https://cf-courses-data.s3.us.cloud-object-storage.appdomain.cloud/assets/logos/SN_web_lightmode.png\" width=\"200\" alt=\"Skills Network Logo\">\n",
    "    </a>\n",
    "</p>\n"
   ]
  },
  {
   "cell_type": "markdown",
   "id": "876393d7-324f-449c-98a9-e069ca5883bb",
   "metadata": {},
   "source": [
    "<h1>Extracting and Visualizing Stock Data</h1>\n",
    "<h2>Description</h2>\n"
   ]
  },
  {
   "cell_type": "markdown",
   "id": "4c14b54c-dfff-4df2-a732-a04a5c9caad9",
   "metadata": {},
   "source": [
    "Extracting essential data from a dataset and displaying it is a necessary part of data science; therefore individuals can make correct decisions based on the data. In this assignment, you will extract some stock data, you will then display this data in a graph.\n"
   ]
  },
  {
   "cell_type": "markdown",
   "id": "84d80097-0658-44ef-8f9a-bfcb5ccd9944",
   "metadata": {},
   "source": [
    "<h2>Table of Contents</h2>\n",
    "<div class=\"alert alert-block alert-info\" style=\"margin-top: 20px\">\n",
    "    <ul>\n",
    "        <li>Define a Function that Makes a Graph</li>\n",
    "        <li>Question 1: Use yfinance to Extract Stock Data</li>\n",
    "        <li>Question 2: Use Webscraping to Extract Tesla Revenue Data</li>\n",
    "        <li>Question 3: Use yfinance to Extract Stock Data</li>\n",
    "        <li>Question 4: Use Webscraping to Extract GME Revenue Data</li>\n",
    "        <li>Question 5: Plot Tesla Stock Graph</li>\n",
    "        <li>Question 6: Plot GameStop Stock Graph</li>\n",
    "    </ul>\n",
    "<p>\n",
    "    Estimated Time Needed: <strong>30 min</strong></p>\n",
    "</div>\n",
    "\n",
    "<hr>\n"
   ]
  },
  {
   "cell_type": "markdown",
   "id": "4faa4eb6-5abd-41eb-9225-fb143df4451c",
   "metadata": {},
   "source": [
    "***Note***:- If you are working Locally using anaconda, please uncomment the following code and execute it.\n"
   ]
  },
  {
   "cell_type": "code",
   "execution_count": 1,
   "id": "e425a4bc-f6c5-48e5-a9f9-3b6e0efe4678",
   "metadata": {},
   "outputs": [
    {
     "name": "stdout",
     "output_type": "stream",
     "text": [
      "Collecting yfinance==0.2.38\n",
      "  Downloading yfinance-0.2.38-py2.py3-none-any.whl.metadata (11 kB)\n",
      "Requirement already satisfied: pandas>=1.3.0 in c:\\users\\sharath\\anaconda\\lib\\site-packages (from yfinance==0.2.38) (2.0.3)\n",
      "Requirement already satisfied: numpy>=1.16.5 in c:\\users\\sharath\\anaconda\\lib\\site-packages (from yfinance==0.2.38) (1.24.3)\n",
      "Requirement already satisfied: requests>=2.31 in c:\\users\\sharath\\appdata\\roaming\\python\\python311\\site-packages (from yfinance==0.2.38) (2.31.0)\n",
      "Requirement already satisfied: multitasking>=0.0.7 in c:\\users\\sharath\\anaconda\\lib\\site-packages (from yfinance==0.2.38) (0.0.11)\n",
      "Requirement already satisfied: lxml>=4.9.1 in c:\\users\\sharath\\anaconda\\lib\\site-packages (from yfinance==0.2.38) (4.9.3)\n",
      "Requirement already satisfied: appdirs>=1.4.4 in c:\\users\\sharath\\anaconda\\lib\\site-packages (from yfinance==0.2.38) (1.4.4)\n",
      "Requirement already satisfied: pytz>=2022.5 in c:\\users\\sharath\\anaconda\\lib\\site-packages (from yfinance==0.2.38) (2023.3.post1)\n",
      "Requirement already satisfied: frozendict>=2.3.4 in c:\\users\\sharath\\anaconda\\lib\\site-packages (from yfinance==0.2.38) (2.4.4)\n",
      "Collecting peewee>=3.16.2 (from yfinance==0.2.38)\n",
      "  Downloading peewee-3.17.6.tar.gz (3.0 MB)\n",
      "     ---------------------------------------- 0.0/3.0 MB ? eta -:--:--\n",
      "     ---------------------------------------- 0.0/3.0 MB ? eta -:--:--\n",
      "      --------------------------------------- 0.1/3.0 MB 650.2 kB/s eta 0:00:05\n",
      "     -- ------------------------------------- 0.2/3.0 MB 2.2 MB/s eta 0:00:02\n",
      "     -------- ------------------------------- 0.6/3.0 MB 4.1 MB/s eta 0:00:01\n",
      "     ------------ --------------------------- 0.9/3.0 MB 4.9 MB/s eta 0:00:01\n",
      "     ------------------ --------------------- 1.3/3.0 MB 5.3 MB/s eta 0:00:01\n",
      "     ---------------------- ----------------- 1.7/3.0 MB 5.9 MB/s eta 0:00:01\n",
      "     --------------------------- ------------ 2.0/3.0 MB 6.1 MB/s eta 0:00:01\n",
      "     ------------------------------- -------- 2.3/3.0 MB 6.1 MB/s eta 0:00:01\n",
      "     -------------------------------- ------- 2.4/3.0 MB 5.9 MB/s eta 0:00:01\n",
      "     ----------------------------------- ---- 2.6/3.0 MB 5.5 MB/s eta 0:00:01\n",
      "     ---------------------------------------- 3.0/3.0 MB 5.9 MB/s eta 0:00:00\n",
      "  Installing build dependencies: started\n",
      "  Installing build dependencies: finished with status 'done'\n",
      "  Getting requirements to build wheel: started\n",
      "  Getting requirements to build wheel: finished with status 'done'\n",
      "  Preparing metadata (pyproject.toml): started\n",
      "  Preparing metadata (pyproject.toml): finished with status 'done'\n",
      "Requirement already satisfied: beautifulsoup4>=4.11.1 in c:\\users\\sharath\\appdata\\roaming\\python\\python311\\site-packages (from yfinance==0.2.38) (4.12.2)\n",
      "Requirement already satisfied: html5lib>=1.1 in c:\\users\\sharath\\anaconda\\lib\\site-packages (from yfinance==0.2.38) (1.1)\n",
      "Requirement already satisfied: soupsieve>1.2 in c:\\users\\sharath\\appdata\\roaming\\python\\python311\\site-packages (from beautifulsoup4>=4.11.1->yfinance==0.2.38) (2.4.1)\n",
      "Requirement already satisfied: six>=1.9 in c:\\users\\sharath\\anaconda\\lib\\site-packages (from html5lib>=1.1->yfinance==0.2.38) (1.16.0)\n",
      "Requirement already satisfied: webencodings in c:\\users\\sharath\\appdata\\roaming\\python\\python311\\site-packages (from html5lib>=1.1->yfinance==0.2.38) (0.5.1)\n",
      "Requirement already satisfied: python-dateutil>=2.8.2 in c:\\users\\sharath\\anaconda\\lib\\site-packages (from pandas>=1.3.0->yfinance==0.2.38) (2.8.2)\n",
      "Requirement already satisfied: tzdata>=2022.1 in c:\\users\\sharath\\anaconda\\lib\\site-packages (from pandas>=1.3.0->yfinance==0.2.38) (2023.3)\n",
      "Requirement already satisfied: charset-normalizer<4,>=2 in c:\\users\\sharath\\appdata\\roaming\\python\\python311\\site-packages (from requests>=2.31->yfinance==0.2.38) (3.2.0)\n",
      "Requirement already satisfied: idna<4,>=2.5 in c:\\users\\sharath\\appdata\\roaming\\python\\python311\\site-packages (from requests>=2.31->yfinance==0.2.38) (3.4)\n",
      "Requirement already satisfied: urllib3<3,>=1.21.1 in c:\\users\\sharath\\appdata\\roaming\\python\\python311\\site-packages (from requests>=2.31->yfinance==0.2.38) (1.26.16)\n",
      "Requirement already satisfied: certifi>=2017.4.17 in c:\\users\\sharath\\appdata\\roaming\\python\\python311\\site-packages (from requests>=2.31->yfinance==0.2.38) (2023.5.7)\n",
      "Downloading yfinance-0.2.38-py2.py3-none-any.whl (72 kB)\n",
      "   ---------------------------------------- 0.0/73.0 kB ? eta -:--:--\n",
      "   ---------------------------------------- 73.0/73.0 kB 3.9 MB/s eta 0:00:00\n",
      "Building wheels for collected packages: peewee\n",
      "  Building wheel for peewee (pyproject.toml): started\n",
      "  Building wheel for peewee (pyproject.toml): finished with status 'done'\n",
      "  Created wheel for peewee: filename=peewee-3.17.6-py3-none-any.whl size=138936 sha256=5f2fac6fde04d728be7d765aa0735ac9450912e6610ccf1354e6455c928aedf6\n",
      "  Stored in directory: c:\\users\\sharath\\appdata\\local\\pip\\cache\\wheels\\1c\\09\\7e\\9f659fde248ecdc1722a142c1d744271aad3914a0afc191058\n",
      "Successfully built peewee\n",
      "Installing collected packages: peewee, yfinance\n",
      "  Attempting uninstall: yfinance\n",
      "    Found existing installation: yfinance 0.2.4\n",
      "    Uninstalling yfinance-0.2.4:\n",
      "      Successfully uninstalled yfinance-0.2.4\n",
      "Successfully installed peewee-3.17.6 yfinance-0.2.38\n"
     ]
    },
    {
     "name": "stderr",
     "output_type": "stream",
     "text": [
      "\n",
      "[notice] A new release of pip is available: 23.3.2 -> 24.1.1\n",
      "[notice] To update, run: python.exe -m pip install --upgrade pip\n"
     ]
    },
    {
     "name": "stdout",
     "output_type": "stream",
     "text": [
      "Collecting pandas==2.2.2\n",
      "  Downloading pandas-2.2.2-cp311-cp311-win_amd64.whl.metadata (19 kB)\n",
      "Requirement already satisfied: numpy>=1.23.2 in c:\\users\\sharath\\anaconda\\lib\\site-packages (from pandas==2.2.2) (1.24.3)\n",
      "Requirement already satisfied: python-dateutil>=2.8.2 in c:\\users\\sharath\\anaconda\\lib\\site-packages (from pandas==2.2.2) (2.8.2)\n",
      "Requirement already satisfied: pytz>=2020.1 in c:\\users\\sharath\\anaconda\\lib\\site-packages (from pandas==2.2.2) (2023.3.post1)\n",
      "Requirement already satisfied: tzdata>=2022.7 in c:\\users\\sharath\\anaconda\\lib\\site-packages (from pandas==2.2.2) (2023.3)\n",
      "Requirement already satisfied: six>=1.5 in c:\\users\\sharath\\anaconda\\lib\\site-packages (from python-dateutil>=2.8.2->pandas==2.2.2) (1.16.0)\n",
      "Downloading pandas-2.2.2-cp311-cp311-win_amd64.whl (11.6 MB)\n",
      "   ---------------------------------------- 0.0/11.6 MB ? eta -:--:--\n",
      "   ---------------------------------------- 0.0/11.6 MB ? eta -:--:--\n",
      "   ---------------------------------------- 0.1/11.6 MB 1.3 MB/s eta 0:00:09\n",
      "   - -------------------------------------- 0.4/11.6 MB 3.5 MB/s eta 0:00:04\n",
      "   -- ------------------------------------- 0.8/11.6 MB 4.9 MB/s eta 0:00:03\n",
      "   --- ------------------------------------ 1.1/11.6 MB 5.3 MB/s eta 0:00:02\n",
      "   ---- ----------------------------------- 1.4/11.6 MB 5.7 MB/s eta 0:00:02\n",
      "   ------ --------------------------------- 1.8/11.6 MB 5.9 MB/s eta 0:00:02\n",
      "   ------- -------------------------------- 2.1/11.6 MB 6.1 MB/s eta 0:00:02\n",
      "   -------- ------------------------------- 2.5/11.6 MB 6.3 MB/s eta 0:00:02\n",
      "   --------- ------------------------------ 2.8/11.6 MB 6.4 MB/s eta 0:00:02\n",
      "   ---------- ----------------------------- 3.0/11.6 MB 6.2 MB/s eta 0:00:02\n",
      "   ----------- ---------------------------- 3.3/11.6 MB 6.5 MB/s eta 0:00:02\n",
      "   ------------ --------------------------- 3.7/11.6 MB 6.4 MB/s eta 0:00:02\n",
      "   -------------- ------------------------- 4.1/11.6 MB 6.6 MB/s eta 0:00:02\n",
      "   --------------- ------------------------ 4.4/11.6 MB 6.6 MB/s eta 0:00:02\n",
      "   ---------------- ----------------------- 4.8/11.6 MB 6.7 MB/s eta 0:00:02\n",
      "   ----------------- ---------------------- 5.2/11.6 MB 6.7 MB/s eta 0:00:01\n",
      "   ------------------- -------------------- 5.5/11.6 MB 6.8 MB/s eta 0:00:01\n",
      "   -------------------- ------------------- 5.9/11.6 MB 6.8 MB/s eta 0:00:01\n",
      "   --------------------- ------------------ 6.2/11.6 MB 6.8 MB/s eta 0:00:01\n",
      "   ---------------------- ----------------- 6.6/11.6 MB 6.9 MB/s eta 0:00:01\n",
      "   ----------------------- ---------------- 6.9/11.6 MB 6.9 MB/s eta 0:00:01\n",
      "   ------------------------ --------------- 7.2/11.6 MB 6.9 MB/s eta 0:00:01\n",
      "   -------------------------- ------------- 7.6/11.6 MB 6.9 MB/s eta 0:00:01\n",
      "   --------------------------- ------------ 7.9/11.6 MB 7.0 MB/s eta 0:00:01\n",
      "   ---------------------------- ----------- 8.3/11.6 MB 7.0 MB/s eta 0:00:01\n",
      "   ----------------------------- ---------- 8.6/11.6 MB 7.0 MB/s eta 0:00:01\n",
      "   ------------------------------ --------- 8.9/11.6 MB 7.0 MB/s eta 0:00:01\n",
      "   ------------------------------- -------- 9.3/11.6 MB 7.0 MB/s eta 0:00:01\n",
      "   --------------------------------- ------ 9.6/11.6 MB 7.0 MB/s eta 0:00:01\n",
      "   ---------------------------------- ----- 10.0/11.6 MB 7.0 MB/s eta 0:00:01\n",
      "   ----------------------------------- ---- 10.3/11.6 MB 7.3 MB/s eta 0:00:01\n",
      "   ------------------------------------ --- 10.7/11.6 MB 7.4 MB/s eta 0:00:01\n",
      "   ------------------------------------- -- 11.0/11.6 MB 7.4 MB/s eta 0:00:01\n",
      "   -------------------------------------- - 11.3/11.6 MB 7.4 MB/s eta 0:00:01\n",
      "   ---------------------------------------  11.6/11.6 MB 7.4 MB/s eta 0:00:01\n",
      "   ---------------------------------------- 11.6/11.6 MB 7.2 MB/s eta 0:00:00\n",
      "Installing collected packages: pandas\n",
      "  Attempting uninstall: pandas\n",
      "    Found existing installation: pandas 2.0.3\n",
      "    Uninstalling pandas-2.0.3:\n",
      "      Successfully uninstalled pandas-2.0.3\n",
      "Successfully installed pandas-2.2.2\n"
     ]
    },
    {
     "name": "stderr",
     "output_type": "stream",
     "text": [
      "\n",
      "[notice] A new release of pip is available: 23.3.2 -> 24.1.1\n",
      "[notice] To update, run: python.exe -m pip install --upgrade pip\n"
     ]
    },
    {
     "name": "stdout",
     "output_type": "stream",
     "text": [
      "Requirement already satisfied: nbformat in c:\\users\\sharath\\appdata\\roaming\\python\\python311\\site-packages (5.9.1)\n",
      "Requirement already satisfied: fastjsonschema in c:\\users\\sharath\\appdata\\roaming\\python\\python311\\site-packages (from nbformat) (2.17.1)\n",
      "Requirement already satisfied: jsonschema>=2.6 in c:\\users\\sharath\\appdata\\roaming\\python\\python311\\site-packages (from nbformat) (4.18.3)\n",
      "Requirement already satisfied: jupyter-core in c:\\users\\sharath\\appdata\\roaming\\python\\python311\\site-packages (from nbformat) (5.3.1)\n",
      "Requirement already satisfied: traitlets>=5.1 in c:\\users\\sharath\\appdata\\roaming\\python\\python311\\site-packages (from nbformat) (5.9.0)\n",
      "Requirement already satisfied: attrs>=22.2.0 in c:\\users\\sharath\\appdata\\roaming\\python\\python311\\site-packages (from jsonschema>=2.6->nbformat) (23.1.0)\n",
      "Requirement already satisfied: jsonschema-specifications>=2023.03.6 in c:\\users\\sharath\\appdata\\roaming\\python\\python311\\site-packages (from jsonschema>=2.6->nbformat) (2023.6.1)\n",
      "Requirement already satisfied: referencing>=0.28.4 in c:\\users\\sharath\\appdata\\roaming\\python\\python311\\site-packages (from jsonschema>=2.6->nbformat) (0.29.1)\n",
      "Requirement already satisfied: rpds-py>=0.7.1 in c:\\users\\sharath\\appdata\\roaming\\python\\python311\\site-packages (from jsonschema>=2.6->nbformat) (0.8.10)\n",
      "Requirement already satisfied: platformdirs>=2.5 in c:\\users\\sharath\\appdata\\roaming\\python\\python311\\site-packages (from jupyter-core->nbformat) (3.8.1)\n",
      "Requirement already satisfied: pywin32>=300 in c:\\users\\sharath\\appdata\\roaming\\python\\python311\\site-packages (from jupyter-core->nbformat) (306)\n"
     ]
    },
    {
     "name": "stderr",
     "output_type": "stream",
     "text": [
      "\n",
      "[notice] A new release of pip is available: 23.3.2 -> 24.1.1\n",
      "[notice] To update, run: python.exe -m pip install --upgrade pip\n"
     ]
    }
   ],
   "source": [
    "!pip install yfinance==0.2.38\n",
    "!pip install pandas==2.2.2\n",
    "!pip install nbformat"
   ]
  },
  {
   "cell_type": "code",
   "execution_count": 2,
   "id": "3bc655a4-c191-4110-be36-900c8a454c74",
   "metadata": {},
   "outputs": [
    {
     "name": "stdout",
     "output_type": "stream",
     "text": [
      "Requirement already satisfied: yfinance in c:\\users\\sharath\\anaconda\\lib\\site-packages (0.2.38)\n",
      "Requirement already satisfied: pandas>=1.3.0 in c:\\users\\sharath\\anaconda\\lib\\site-packages (from yfinance) (2.2.2)\n",
      "Requirement already satisfied: numpy>=1.16.5 in c:\\users\\sharath\\anaconda\\lib\\site-packages (from yfinance) (1.24.3)\n",
      "Requirement already satisfied: requests>=2.31 in c:\\users\\sharath\\appdata\\roaming\\python\\python311\\site-packages (from yfinance) (2.31.0)\n",
      "Requirement already satisfied: multitasking>=0.0.7 in c:\\users\\sharath\\anaconda\\lib\\site-packages (from yfinance) (0.0.11)\n",
      "Requirement already satisfied: lxml>=4.9.1 in c:\\users\\sharath\\anaconda\\lib\\site-packages (from yfinance) (4.9.3)\n",
      "Requirement already satisfied: appdirs>=1.4.4 in c:\\users\\sharath\\anaconda\\lib\\site-packages (from yfinance) (1.4.4)\n",
      "Requirement already satisfied: pytz>=2022.5 in c:\\users\\sharath\\anaconda\\lib\\site-packages (from yfinance) (2023.3.post1)\n",
      "Requirement already satisfied: frozendict>=2.3.4 in c:\\users\\sharath\\anaconda\\lib\\site-packages (from yfinance) (2.4.4)\n",
      "Requirement already satisfied: peewee>=3.16.2 in c:\\users\\sharath\\anaconda\\lib\\site-packages (from yfinance) (3.17.6)\n",
      "Requirement already satisfied: beautifulsoup4>=4.11.1 in c:\\users\\sharath\\appdata\\roaming\\python\\python311\\site-packages (from yfinance) (4.12.2)\n",
      "Requirement already satisfied: html5lib>=1.1 in c:\\users\\sharath\\anaconda\\lib\\site-packages (from yfinance) (1.1)\n",
      "Requirement already satisfied: soupsieve>1.2 in c:\\users\\sharath\\appdata\\roaming\\python\\python311\\site-packages (from beautifulsoup4>=4.11.1->yfinance) (2.4.1)\n",
      "Requirement already satisfied: six>=1.9 in c:\\users\\sharath\\anaconda\\lib\\site-packages (from html5lib>=1.1->yfinance) (1.16.0)\n",
      "Requirement already satisfied: webencodings in c:\\users\\sharath\\appdata\\roaming\\python\\python311\\site-packages (from html5lib>=1.1->yfinance) (0.5.1)\n",
      "Requirement already satisfied: python-dateutil>=2.8.2 in c:\\users\\sharath\\anaconda\\lib\\site-packages (from pandas>=1.3.0->yfinance) (2.8.2)\n",
      "Requirement already satisfied: tzdata>=2022.7 in c:\\users\\sharath\\anaconda\\lib\\site-packages (from pandas>=1.3.0->yfinance) (2023.3)\n",
      "Requirement already satisfied: charset-normalizer<4,>=2 in c:\\users\\sharath\\appdata\\roaming\\python\\python311\\site-packages (from requests>=2.31->yfinance) (3.2.0)\n",
      "Requirement already satisfied: idna<4,>=2.5 in c:\\users\\sharath\\appdata\\roaming\\python\\python311\\site-packages (from requests>=2.31->yfinance) (3.4)\n",
      "Requirement already satisfied: urllib3<3,>=1.21.1 in c:\\users\\sharath\\appdata\\roaming\\python\\python311\\site-packages (from requests>=2.31->yfinance) (1.26.16)\n",
      "Requirement already satisfied: certifi>=2017.4.17 in c:\\users\\sharath\\appdata\\roaming\\python\\python311\\site-packages (from requests>=2.31->yfinance) (2023.5.7)\n"
     ]
    },
    {
     "name": "stderr",
     "output_type": "stream",
     "text": [
      "\n",
      "[notice] A new release of pip is available: 23.3.2 -> 24.1.1\n",
      "[notice] To update, run: python.exe -m pip install --upgrade pip\n"
     ]
    },
    {
     "name": "stdout",
     "output_type": "stream",
     "text": [
      "Requirement already satisfied: bs4 in c:\\users\\sharath\\anaconda\\lib\\site-packages (0.0.2)\n",
      "Requirement already satisfied: beautifulsoup4 in c:\\users\\sharath\\appdata\\roaming\\python\\python311\\site-packages (from bs4) (4.12.2)\n",
      "Requirement already satisfied: soupsieve>1.2 in c:\\users\\sharath\\appdata\\roaming\\python\\python311\\site-packages (from beautifulsoup4->bs4) (2.4.1)\n"
     ]
    },
    {
     "name": "stderr",
     "output_type": "stream",
     "text": [
      "\n",
      "[notice] A new release of pip is available: 23.3.2 -> 24.1.1\n",
      "[notice] To update, run: python.exe -m pip install --upgrade pip\n"
     ]
    },
    {
     "name": "stdout",
     "output_type": "stream",
     "text": [
      "Requirement already satisfied: nbformat in c:\\users\\sharath\\appdata\\roaming\\python\\python311\\site-packages (5.9.1)\n",
      "Requirement already satisfied: fastjsonschema in c:\\users\\sharath\\appdata\\roaming\\python\\python311\\site-packages (from nbformat) (2.17.1)\n",
      "Requirement already satisfied: jsonschema>=2.6 in c:\\users\\sharath\\appdata\\roaming\\python\\python311\\site-packages (from nbformat) (4.18.3)\n",
      "Requirement already satisfied: jupyter-core in c:\\users\\sharath\\appdata\\roaming\\python\\python311\\site-packages (from nbformat) (5.3.1)\n",
      "Requirement already satisfied: traitlets>=5.1 in c:\\users\\sharath\\appdata\\roaming\\python\\python311\\site-packages (from nbformat) (5.9.0)\n",
      "Requirement already satisfied: attrs>=22.2.0 in c:\\users\\sharath\\appdata\\roaming\\python\\python311\\site-packages (from jsonschema>=2.6->nbformat) (23.1.0)\n",
      "Requirement already satisfied: jsonschema-specifications>=2023.03.6 in c:\\users\\sharath\\appdata\\roaming\\python\\python311\\site-packages (from jsonschema>=2.6->nbformat) (2023.6.1)\n",
      "Requirement already satisfied: referencing>=0.28.4 in c:\\users\\sharath\\appdata\\roaming\\python\\python311\\site-packages (from jsonschema>=2.6->nbformat) (0.29.1)\n",
      "Requirement already satisfied: rpds-py>=0.7.1 in c:\\users\\sharath\\appdata\\roaming\\python\\python311\\site-packages (from jsonschema>=2.6->nbformat) (0.8.10)\n",
      "Requirement already satisfied: platformdirs>=2.5 in c:\\users\\sharath\\appdata\\roaming\\python\\python311\\site-packages (from jupyter-core->nbformat) (3.8.1)\n",
      "Requirement already satisfied: pywin32>=300 in c:\\users\\sharath\\appdata\\roaming\\python\\python311\\site-packages (from jupyter-core->nbformat) (306)\n"
     ]
    },
    {
     "name": "stderr",
     "output_type": "stream",
     "text": [
      "\n",
      "[notice] A new release of pip is available: 23.3.2 -> 24.1.1\n",
      "[notice] To update, run: python.exe -m pip install --upgrade pip\n"
     ]
    }
   ],
   "source": [
    "!pip install yfinance\n",
    "!pip install bs4\n",
    "!pip install nbformat"
   ]
  },
  {
   "cell_type": "code",
   "execution_count": 3,
   "id": "9695dd95-3085-45a7-89a9-9ed37ea7d0e8",
   "metadata": {},
   "outputs": [
    {
     "name": "stderr",
     "output_type": "stream",
     "text": [
      "C:\\Users\\Sharath\\anaconda\\Lib\\site-packages\\pandas\\core\\arrays\\masked.py:60: UserWarning: Pandas requires version '1.3.6' or newer of 'bottleneck' (version '1.3.5' currently installed).\n",
      "  from pandas.core import (\n"
     ]
    }
   ],
   "source": [
    "import yfinance as yf\n",
    "import pandas as pd\n",
    "import requests\n",
    "from bs4 import BeautifulSoup\n",
    "import plotly.graph_objects as go\n",
    "from plotly.subplots import make_subplots"
   ]
  },
  {
   "cell_type": "markdown",
   "id": "4a0d4d49-b909-4d32-b860-d3e30f3c38d5",
   "metadata": {},
   "source": [
    "In Python, you can ignore warnings using the warnings module. You can use the filterwarnings function to filter or ignore specific warning messages or categories.\n"
   ]
  },
  {
   "cell_type": "code",
   "execution_count": 4,
   "id": "c44172df-5255-4d2d-ab0f-066844e0ccd8",
   "metadata": {},
   "outputs": [],
   "source": [
    "import warnings\n",
    "# Ignore all warnings\n",
    "warnings.filterwarnings(\"ignore\", category=FutureWarning)"
   ]
  },
  {
   "cell_type": "markdown",
   "id": "29b296cb-2dab-4393-989f-87259f087db7",
   "metadata": {},
   "source": [
    "## Define Graphing Function\n"
   ]
  },
  {
   "cell_type": "markdown",
   "id": "4dd2e907-12ac-4891-88e1-f48ce95ed99d",
   "metadata": {},
   "source": [
    "In this section, we define the function `make_graph`. **You don't have to know how the function works, you should only care about the inputs. It takes a dataframe with stock data (dataframe must contain Date and Close columns), a dataframe with revenue data (dataframe must contain Date and Revenue columns), and the name of the stock.**\n"
   ]
  },
  {
   "cell_type": "code",
   "execution_count": 5,
   "id": "e8b91ed8-ab90-4d0f-b43d-e88d51b840bc",
   "metadata": {},
   "outputs": [],
   "source": [
    "def make_graph(stock_data, revenue_data, stock):\n",
    "    fig = make_subplots(rows=2, cols=1, shared_xaxes=True, subplot_titles=(\"Historical Share Price\", \"Historical Revenue\"), vertical_spacing = .3)\n",
    "    stock_data_specific = stock_data[stock_data.Date <= '2021--06-14']\n",
    "    revenue_data_specific = revenue_data[revenue_data.Date <= '2021-04-30']\n",
    "    fig.add_trace(go.Scatter(x=pd.to_datetime(stock_data_specific.Date, infer_datetime_format=True), y=stock_data_specific.Close.astype(\"float\"), name=\"Share Price\"), row=1, col=1)\n",
    "    fig.add_trace(go.Scatter(x=pd.to_datetime(revenue_data_specific.Date, infer_datetime_format=True), y=revenue_data_specific.Revenue.astype(\"float\"), name=\"Revenue\"), row=2, col=1)\n",
    "    fig.update_xaxes(title_text=\"Date\", row=1, col=1)\n",
    "    fig.update_xaxes(title_text=\"Date\", row=2, col=1)\n",
    "    fig.update_yaxes(title_text=\"Price ($US)\", row=1, col=1)\n",
    "    fig.update_yaxes(title_text=\"Revenue ($US Millions)\", row=2, col=1)\n",
    "    fig.update_layout(showlegend=False,\n",
    "    height=900,\n",
    "    title=stock,\n",
    "    xaxis_rangeslider_visible=True)\n",
    "    fig.show()"
   ]
  },
  {
   "cell_type": "markdown",
   "id": "5d90cabc-c368-453b-9ff2-56b635716ea1",
   "metadata": {},
   "source": [
    "Use the make_graph function that we’ve already defined. You’ll need to invoke it in questions 5 and 6 to display the graphs and create the dashboard. \n",
    "> **Note: You don’t need to redefine the function for plotting graphs anywhere else in this notebook; just use the existing function.**\n"
   ]
  },
  {
   "cell_type": "markdown",
   "id": "13de12de-95cc-4f97-8764-f0af5beb11c1",
   "metadata": {},
   "source": [
    "## Question 1: Use yfinance to Extract Stock Data\n"
   ]
  },
  {
   "cell_type": "markdown",
   "id": "560cda77-cc24-4e5c-9af5-301a8f7c282a",
   "metadata": {},
   "source": [
    "Using the `Ticker` function enter the ticker symbol of the stock we want to extract data on to create a ticker object. The stock is Tesla and its ticker symbol is `TSLA`.\n"
   ]
  },
  {
   "cell_type": "code",
   "execution_count": 6,
   "id": "e0345666-628e-4e47-ba17-9d2d39387d33",
   "metadata": {},
   "outputs": [],
   "source": [
    "data = yf.Ticker(\"TSLA\")"
   ]
  },
  {
   "cell_type": "markdown",
   "id": "411f4bbb-2ec3-45ad-b7c3-0bbc29a648ab",
   "metadata": {},
   "source": [
    "Using the ticker object and the function `history` extract stock information and save it in a dataframe named `tesla_data`. Set the `period` parameter to ` \"max\" ` so we get information for the maximum amount of time.\n"
   ]
  },
  {
   "cell_type": "code",
   "execution_count": 7,
   "id": "34a254b5-6908-4f26-8b71-b949afa0346e",
   "metadata": {},
   "outputs": [],
   "source": [
    "tesla_data=data.history(period=\"max\")"
   ]
  },
  {
   "cell_type": "markdown",
   "id": "912bbe1e-4660-4f42-b590-8f70a2e6cd2d",
   "metadata": {},
   "source": [
    "**Reset the index** using the `reset_index(inplace=True)` function on the tesla_data DataFrame and display the first five rows of the `tesla_data` dataframe using the `head` function. Take a screenshot of the results and code from the beginning of Question 1 to the results below.\n"
   ]
  },
  {
   "cell_type": "code",
   "execution_count": 9,
   "id": "29975ea9-078e-43f2-8c4b-d8448878217b",
   "metadata": {},
   "outputs": [
    {
     "data": {
      "text/html": [
       "<div>\n",
       "<style scoped>\n",
       "    .dataframe tbody tr th:only-of-type {\n",
       "        vertical-align: middle;\n",
       "    }\n",
       "\n",
       "    .dataframe tbody tr th {\n",
       "        vertical-align: top;\n",
       "    }\n",
       "\n",
       "    .dataframe thead th {\n",
       "        text-align: right;\n",
       "    }\n",
       "</style>\n",
       "<table border=\"1\" class=\"dataframe\">\n",
       "  <thead>\n",
       "    <tr style=\"text-align: right;\">\n",
       "      <th></th>\n",
       "      <th>Date</th>\n",
       "      <th>Open</th>\n",
       "      <th>High</th>\n",
       "      <th>Low</th>\n",
       "      <th>Close</th>\n",
       "      <th>Volume</th>\n",
       "      <th>Dividends</th>\n",
       "      <th>Stock Splits</th>\n",
       "    </tr>\n",
       "  </thead>\n",
       "  <tbody>\n",
       "    <tr>\n",
       "      <th>0</th>\n",
       "      <td>2010-06-29 00:00:00-04:00</td>\n",
       "      <td>1.266667</td>\n",
       "      <td>1.666667</td>\n",
       "      <td>1.169333</td>\n",
       "      <td>1.592667</td>\n",
       "      <td>281494500</td>\n",
       "      <td>0.0</td>\n",
       "      <td>0.0</td>\n",
       "    </tr>\n",
       "    <tr>\n",
       "      <th>1</th>\n",
       "      <td>2010-06-30 00:00:00-04:00</td>\n",
       "      <td>1.719333</td>\n",
       "      <td>2.028000</td>\n",
       "      <td>1.553333</td>\n",
       "      <td>1.588667</td>\n",
       "      <td>257806500</td>\n",
       "      <td>0.0</td>\n",
       "      <td>0.0</td>\n",
       "    </tr>\n",
       "    <tr>\n",
       "      <th>2</th>\n",
       "      <td>2010-07-01 00:00:00-04:00</td>\n",
       "      <td>1.666667</td>\n",
       "      <td>1.728000</td>\n",
       "      <td>1.351333</td>\n",
       "      <td>1.464000</td>\n",
       "      <td>123282000</td>\n",
       "      <td>0.0</td>\n",
       "      <td>0.0</td>\n",
       "    </tr>\n",
       "    <tr>\n",
       "      <th>3</th>\n",
       "      <td>2010-07-02 00:00:00-04:00</td>\n",
       "      <td>1.533333</td>\n",
       "      <td>1.540000</td>\n",
       "      <td>1.247333</td>\n",
       "      <td>1.280000</td>\n",
       "      <td>77097000</td>\n",
       "      <td>0.0</td>\n",
       "      <td>0.0</td>\n",
       "    </tr>\n",
       "    <tr>\n",
       "      <th>4</th>\n",
       "      <td>2010-07-06 00:00:00-04:00</td>\n",
       "      <td>1.333333</td>\n",
       "      <td>1.333333</td>\n",
       "      <td>1.055333</td>\n",
       "      <td>1.074000</td>\n",
       "      <td>103003500</td>\n",
       "      <td>0.0</td>\n",
       "      <td>0.0</td>\n",
       "    </tr>\n",
       "  </tbody>\n",
       "</table>\n",
       "</div>"
      ],
      "text/plain": [
       "                       Date      Open      High       Low     Close  \\\n",
       "0 2010-06-29 00:00:00-04:00  1.266667  1.666667  1.169333  1.592667   \n",
       "1 2010-06-30 00:00:00-04:00  1.719333  2.028000  1.553333  1.588667   \n",
       "2 2010-07-01 00:00:00-04:00  1.666667  1.728000  1.351333  1.464000   \n",
       "3 2010-07-02 00:00:00-04:00  1.533333  1.540000  1.247333  1.280000   \n",
       "4 2010-07-06 00:00:00-04:00  1.333333  1.333333  1.055333  1.074000   \n",
       "\n",
       "      Volume  Dividends  Stock Splits  \n",
       "0  281494500        0.0           0.0  \n",
       "1  257806500        0.0           0.0  \n",
       "2  123282000        0.0           0.0  \n",
       "3   77097000        0.0           0.0  \n",
       "4  103003500        0.0           0.0  "
      ]
     },
     "execution_count": 9,
     "metadata": {},
     "output_type": "execute_result"
    }
   ],
   "source": [
    "tesla_data_reset = tesla_data.reset_index()\n",
    "tesla_data_reset.head()"
   ]
  },
  {
   "cell_type": "markdown",
   "id": "c1ae4fea-6c25-4012-996c-ae33eb00d032",
   "metadata": {},
   "source": [
    "## Question 2: Use Webscraping to Extract Tesla Revenue Data\n"
   ]
  },
  {
   "cell_type": "markdown",
   "id": "836faa5c-07d9-4dab-ae48-aab131a7f854",
   "metadata": {},
   "source": [
    "Use the `requests` library to download the webpage https://cf-courses-data.s3.us.cloud-object-storage.appdomain.cloud/IBMDeveloperSkillsNetwork-PY0220EN-SkillsNetwork/labs/project/revenue.htm Save the text of the response as a variable named `html_data`.\n"
   ]
  },
  {
   "cell_type": "code",
   "execution_count": 10,
   "id": "920b8ded-94b4-4f64-8a04-6d63778b126c",
   "metadata": {},
   "outputs": [],
   "source": [
    "url=\"https://cf-courses-data.s3.us.cloud-object-storage.appdomain.cloud/IBMDeveloperSkillsNetwork-PY0220EN-SkillsNetwork/labs/project/revenue.htm\"\n"
   ]
  },
  {
   "cell_type": "markdown",
   "id": "fbf2d17e-8221-47c5-93d1-1a2e64db8bd1",
   "metadata": {},
   "source": [
    "Parse the html data using `beautiful_soup` using parser i.e `html5lib` or `html.parser`.\n"
   ]
  },
  {
   "cell_type": "code",
   "execution_count": 11,
   "id": "cd1be9a5-8fde-488e-9ce4-f1c7894d17f1",
   "metadata": {},
   "outputs": [],
   "source": [
    "data=requests.get(url).text\n",
    "soup=BeautifulSoup(data,\"html5lib\")"
   ]
  },
  {
   "cell_type": "markdown",
   "id": "12a0b94d-c6c3-427f-be48-c96153bab4df",
   "metadata": {},
   "source": [
    "Using `BeautifulSoup` or the `read_html` function extract the table with `Tesla Revenue` and store it into a dataframe named `tesla_revenue`. The dataframe should have columns `Date` and `Revenue`.\n"
   ]
  },
  {
   "cell_type": "markdown",
   "id": "1c3d62cb-e24b-4578-b214-a59c4da0fe32",
   "metadata": {},
   "source": [
    "<details><summary>Step-by-step instructions</summary>\n",
    "\n",
    "```\n",
    "\n",
    "Here are the step-by-step instructions:\n",
    "\n",
    "1. Create an Empty DataFrame\n",
    "2. Find the Relevant Table\n",
    "3. Check for the Tesla Quarterly Revenue Table\n",
    "4. Iterate Through Rows in the Table Body\n",
    "5. Extract Data from Columns\n",
    "6. Append Data to the DataFrame\n",
    "\n",
    "```\n",
    "</details>\n"
   ]
  },
  {
   "cell_type": "markdown",
   "id": "b96e363a-fdce-49d8-b0c8-2882965a6757",
   "metadata": {},
   "source": [
    "<details><summary>Click here if you need help locating the table</summary>\n",
    "\n",
    "```\n",
    "    \n",
    "Below is the code to isolate the table, you will now need to loop through the rows and columns like in the previous lab\n",
    "    \n",
    "soup.find_all(\"tbody\")[1]\n",
    "    \n",
    "If you want to use the read_html function the table is located at index 1\n",
    "\n",
    "We are focusing on quarterly revenue in the lab.\n",
    "```\n",
    "\n",
    "</details>\n"
   ]
  },
  {
   "cell_type": "code",
   "execution_count": 13,
   "id": "eeef843f-5e89-4e28-8e0b-cb3ff70ce33f",
   "metadata": {},
   "outputs": [
    {
     "name": "stdout",
     "output_type": "stream",
     "text": [
      "Table 0:\n",
      "   Tesla Annual Revenue (Millions of US $)  \\\n",
      "0                                     2021   \n",
      "1                                     2020   \n",
      "2                                     2019   \n",
      "3                                     2018   \n",
      "4                                     2017   \n",
      "\n",
      "  Tesla Annual Revenue (Millions of US $).1  \n",
      "0                                   $53,823  \n",
      "1                                   $31,536  \n",
      "2                                   $24,578  \n",
      "3                                   $21,461  \n",
      "4                                   $11,759   \n",
      "\n",
      "Table 1:\n",
      "  Tesla Quarterly Revenue (Millions of US $)  \\\n",
      "0                                 2022-09-30   \n",
      "1                                 2022-06-30   \n",
      "2                                 2022-03-31   \n",
      "3                                 2021-12-31   \n",
      "4                                 2021-09-30   \n",
      "\n",
      "  Tesla Quarterly Revenue (Millions of US $).1  \n",
      "0                                      $21,454  \n",
      "1                                      $16,934  \n",
      "2                                      $18,756  \n",
      "3                                      $17,719  \n",
      "4                                      $13,757   \n",
      "\n",
      "Table 2:\n",
      "                                              Sector  \\\n",
      "0                                  Auto/Tires/Trucks   \n",
      "1  Tesla is the market leader in battery-powered ...   \n",
      "\n",
      "                                            Industry  \\\n",
      "0                      Auto Manufacturers - Domestic   \n",
      "1  Tesla is the market leader in battery-powered ...   \n",
      "\n",
      "                                          Market Cap  \\\n",
      "0                                          $549.575B   \n",
      "1  Tesla is the market leader in battery-powered ...   \n",
      "\n",
      "                                             Revenue  \n",
      "0                                           $53.823B  \n",
      "1  Tesla is the market leader in battery-powered ...   \n",
      "\n",
      "Table 3:\n",
      "              Stock Name        Country Market Cap  PE Ratio\n",
      "0    General Motors (GM)  United States   $53.930B      5.56\n",
      "1         Ford Motor (F)  United States   $52.668B      8.09\n",
      "2  Harley-Davidson (HOG)  United States    $6.762B      9.56\n",
      "3          Polaris (PII)  United States    $6.267B     11.86\n",
      "4              IAA (IAA)  United States    $5.134B     16.40 \n",
      "\n",
      "Table 4:\n",
      "                     Link Preview  HTML Code (Click to Copy)\n",
      "0  Tesla Revenue 2010-2022 | TSLA                        NaN\n",
      "1                     Macrotrends                        NaN\n",
      "2                          Source                        NaN \n",
      "\n",
      "Table 5:\n",
      "                     Link Preview  HTML Code (Click to Copy)\n",
      "0  Tesla Revenue 2010-2022 | TSLA                        NaN\n",
      "1                     Macrotrends                        NaN\n",
      "2                          Source                        NaN \n",
      "\n",
      "Index(['Tesla Quarterly Revenue (Millions of US $)', 'Tesla Quarterly Revenue (Millions of US $).1'], dtype='object')\n"
     ]
    }
   ],
   "source": [
    "tables = pd.read_html(url)\n",
    "\n",
    "# Inspecting all the tables to find the correct one\n",
    "for i, table in enumerate(tables):\n",
    "    print(f\"Table {i}:\")\n",
    "    print(table.head(), \"\\n\")  # Print first few rows of each table for inspection\n",
    "\n",
    "# Assume the correct table is identified (for this example, let's assume it's the 1st one)\n",
    "tesla_revenue = tables[1]  \n",
    "# Checking the columns to find the relevant ones\n",
    "print(tesla_revenue.columns)\n",
    "# For this example, assuming the columns we need are in positions 0 and 1\n",
    "# Adjust based on the actual table structure after inspection\n",
    "tesla_revenue = tesla_revenue.iloc[:, [0, 1]]\n",
    "# Renaming columns to 'Date' and 'Revenue'\n",
    "tesla_revenue.columns = ['Date', 'Revenue']\n",
    "# Cleaning the 'Revenue' column: Remove any commas and dollar signs, convert to float\n",
    "tesla_revenue['Revenue'] = tesla_revenue['Revenue'].str.replace(',', '').str.replace('$', '').astype(float)"
   ]
  },
  {
   "cell_type": "code",
   "execution_count": 15,
   "id": "f7176674-6b3a-4aae-9a6a-2206742cb519",
   "metadata": {},
   "outputs": [],
   "source": [
    "tesla_revenue.dropna(inplace=True)"
   ]
  },
  {
   "cell_type": "markdown",
   "id": "762d7ddf-1edc-4a68-8f8d-b67103b2c326",
   "metadata": {},
   "source": [
    "Display the last 5 row of the `tesla_revenue` dataframe using the `tail` function. Take a screenshot of the results.\n"
   ]
  },
  {
   "cell_type": "code",
   "execution_count": 17,
   "id": "a32da301-1eeb-4f47-80d2-0ffa2836a5e7",
   "metadata": {},
   "outputs": [
    {
     "data": {
      "text/html": [
       "<div>\n",
       "<style scoped>\n",
       "    .dataframe tbody tr th:only-of-type {\n",
       "        vertical-align: middle;\n",
       "    }\n",
       "\n",
       "    .dataframe tbody tr th {\n",
       "        vertical-align: top;\n",
       "    }\n",
       "\n",
       "    .dataframe thead th {\n",
       "        text-align: right;\n",
       "    }\n",
       "</style>\n",
       "<table border=\"1\" class=\"dataframe\">\n",
       "  <thead>\n",
       "    <tr style=\"text-align: right;\">\n",
       "      <th></th>\n",
       "      <th>Date</th>\n",
       "      <th>Revenue</th>\n",
       "    </tr>\n",
       "  </thead>\n",
       "  <tbody>\n",
       "    <tr>\n",
       "      <th>48</th>\n",
       "      <td>2010-09-30</td>\n",
       "      <td>31.0</td>\n",
       "    </tr>\n",
       "    <tr>\n",
       "      <th>49</th>\n",
       "      <td>2010-06-30</td>\n",
       "      <td>28.0</td>\n",
       "    </tr>\n",
       "    <tr>\n",
       "      <th>50</th>\n",
       "      <td>2010-03-31</td>\n",
       "      <td>21.0</td>\n",
       "    </tr>\n",
       "    <tr>\n",
       "      <th>52</th>\n",
       "      <td>2009-09-30</td>\n",
       "      <td>46.0</td>\n",
       "    </tr>\n",
       "    <tr>\n",
       "      <th>53</th>\n",
       "      <td>2009-06-30</td>\n",
       "      <td>27.0</td>\n",
       "    </tr>\n",
       "  </tbody>\n",
       "</table>\n",
       "</div>"
      ],
      "text/plain": [
       "          Date  Revenue\n",
       "48  2010-09-30     31.0\n",
       "49  2010-06-30     28.0\n",
       "50  2010-03-31     21.0\n",
       "52  2009-09-30     46.0\n",
       "53  2009-06-30     27.0"
      ]
     },
     "execution_count": 17,
     "metadata": {},
     "output_type": "execute_result"
    }
   ],
   "source": [
    "tesla_revenue.tail()"
   ]
  },
  {
   "cell_type": "markdown",
   "id": "7a690ba5-568e-4861-8ccc-b2a6159588d9",
   "metadata": {},
   "source": [
    "## Question 3: Use yfinance to Extract Stock Data\n"
   ]
  },
  {
   "cell_type": "markdown",
   "id": "4992eca7-e0bd-49ae-aeea-98e594deb54e",
   "metadata": {},
   "source": [
    "Using the `Ticker` function enter the ticker symbol of the stock we want to extract data on to create a ticker object. The stock is GameStop and its ticker symbol is `GME`.\n"
   ]
  },
  {
   "cell_type": "code",
   "execution_count": 18,
   "id": "f8ea159d-cada-4fd4-8cc4-712ccc17f9a0",
   "metadata": {},
   "outputs": [],
   "source": [
    "data1=yf.Ticker(\"GME\")"
   ]
  },
  {
   "cell_type": "markdown",
   "id": "8ce60558-17b3-4033-8fe6-7307e882c0fc",
   "metadata": {},
   "source": [
    "Using the ticker object and the function `history` extract stock information and save it in a dataframe named `gme_data`. Set the `period` parameter to ` \"max\" ` so we get information for the maximum amount of time.\n"
   ]
  },
  {
   "cell_type": "code",
   "execution_count": 19,
   "id": "f8dd33dd-0e00-4398-9ec1-d66a0e9db453",
   "metadata": {},
   "outputs": [],
   "source": [
    "gme_data=data1.history(period=\"max\")"
   ]
  },
  {
   "cell_type": "markdown",
   "id": "ddc9821c-070b-416d-8e77-8eb28bc827dd",
   "metadata": {},
   "source": [
    "**Reset the index** using the `reset_index(inplace=True)` function on the gme_data DataFrame and display the first five rows of the `gme_data` dataframe using the `head` function. Take a screenshot of the results and code from the beginning of Question 3 to the results below.\n"
   ]
  },
  {
   "cell_type": "code",
   "execution_count": 20,
   "id": "a3413f7b-9d73-4f14-8bcc-1cd58fa6541d",
   "metadata": {},
   "outputs": [
    {
     "data": {
      "text/html": [
       "<div>\n",
       "<style scoped>\n",
       "    .dataframe tbody tr th:only-of-type {\n",
       "        vertical-align: middle;\n",
       "    }\n",
       "\n",
       "    .dataframe tbody tr th {\n",
       "        vertical-align: top;\n",
       "    }\n",
       "\n",
       "    .dataframe thead th {\n",
       "        text-align: right;\n",
       "    }\n",
       "</style>\n",
       "<table border=\"1\" class=\"dataframe\">\n",
       "  <thead>\n",
       "    <tr style=\"text-align: right;\">\n",
       "      <th></th>\n",
       "      <th>Date</th>\n",
       "      <th>Open</th>\n",
       "      <th>High</th>\n",
       "      <th>Low</th>\n",
       "      <th>Close</th>\n",
       "      <th>Volume</th>\n",
       "      <th>Dividends</th>\n",
       "      <th>Stock Splits</th>\n",
       "    </tr>\n",
       "  </thead>\n",
       "  <tbody>\n",
       "    <tr>\n",
       "      <th>0</th>\n",
       "      <td>2002-02-13 00:00:00-05:00</td>\n",
       "      <td>1.620129</td>\n",
       "      <td>1.693350</td>\n",
       "      <td>1.603296</td>\n",
       "      <td>1.691667</td>\n",
       "      <td>76216000</td>\n",
       "      <td>0.0</td>\n",
       "      <td>0.0</td>\n",
       "    </tr>\n",
       "    <tr>\n",
       "      <th>1</th>\n",
       "      <td>2002-02-14 00:00:00-05:00</td>\n",
       "      <td>1.712707</td>\n",
       "      <td>1.716073</td>\n",
       "      <td>1.670626</td>\n",
       "      <td>1.683250</td>\n",
       "      <td>11021600</td>\n",
       "      <td>0.0</td>\n",
       "      <td>0.0</td>\n",
       "    </tr>\n",
       "    <tr>\n",
       "      <th>2</th>\n",
       "      <td>2002-02-15 00:00:00-05:00</td>\n",
       "      <td>1.683250</td>\n",
       "      <td>1.687458</td>\n",
       "      <td>1.658002</td>\n",
       "      <td>1.674834</td>\n",
       "      <td>8389600</td>\n",
       "      <td>0.0</td>\n",
       "      <td>0.0</td>\n",
       "    </tr>\n",
       "    <tr>\n",
       "      <th>3</th>\n",
       "      <td>2002-02-19 00:00:00-05:00</td>\n",
       "      <td>1.666417</td>\n",
       "      <td>1.666417</td>\n",
       "      <td>1.578047</td>\n",
       "      <td>1.607504</td>\n",
       "      <td>7410400</td>\n",
       "      <td>0.0</td>\n",
       "      <td>0.0</td>\n",
       "    </tr>\n",
       "    <tr>\n",
       "      <th>4</th>\n",
       "      <td>2002-02-20 00:00:00-05:00</td>\n",
       "      <td>1.615920</td>\n",
       "      <td>1.662210</td>\n",
       "      <td>1.603296</td>\n",
       "      <td>1.662210</td>\n",
       "      <td>6892800</td>\n",
       "      <td>0.0</td>\n",
       "      <td>0.0</td>\n",
       "    </tr>\n",
       "  </tbody>\n",
       "</table>\n",
       "</div>"
      ],
      "text/plain": [
       "                       Date      Open      High       Low     Close    Volume  \\\n",
       "0 2002-02-13 00:00:00-05:00  1.620129  1.693350  1.603296  1.691667  76216000   \n",
       "1 2002-02-14 00:00:00-05:00  1.712707  1.716073  1.670626  1.683250  11021600   \n",
       "2 2002-02-15 00:00:00-05:00  1.683250  1.687458  1.658002  1.674834   8389600   \n",
       "3 2002-02-19 00:00:00-05:00  1.666417  1.666417  1.578047  1.607504   7410400   \n",
       "4 2002-02-20 00:00:00-05:00  1.615920  1.662210  1.603296  1.662210   6892800   \n",
       "\n",
       "   Dividends  Stock Splits  \n",
       "0        0.0           0.0  \n",
       "1        0.0           0.0  \n",
       "2        0.0           0.0  \n",
       "3        0.0           0.0  \n",
       "4        0.0           0.0  "
      ]
     },
     "execution_count": 20,
     "metadata": {},
     "output_type": "execute_result"
    }
   ],
   "source": [
    "gme_data_reset=gme_data.reset_index()\n",
    "gme_data_reset.head()"
   ]
  },
  {
   "cell_type": "markdown",
   "id": "c8327666-d840-4cee-afac-6775613a4f72",
   "metadata": {},
   "source": [
    "## Question 4: Use Webscraping to Extract GME Revenue Data\n"
   ]
  },
  {
   "cell_type": "markdown",
   "id": "644a4dda-8e98-4648-a959-c7d8a8550f94",
   "metadata": {},
   "source": [
    "Use the `requests` library to download the webpage https://cf-courses-data.s3.us.cloud-object-storage.appdomain.cloud/IBMDeveloperSkillsNetwork-PY0220EN-SkillsNetwork/labs/project/stock.html. Save the text of the response as a variable named `html_data_2`.\n"
   ]
  },
  {
   "cell_type": "code",
   "execution_count": 21,
   "id": "540919a0-3c31-450c-b0f7-f02ec2704356",
   "metadata": {},
   "outputs": [],
   "source": [
    "url=\"https://cf-courses-data.s3.us.cloud-object-storage.appdomain.cloud/IBMDeveloperSkillsNetwork-PY0220EN-SkillsNetwork/labs/project/stock.html\""
   ]
  },
  {
   "cell_type": "markdown",
   "id": "c3b5ca86-2ab5-4d06-ad53-4bf32a965144",
   "metadata": {},
   "source": [
    "Parse the html data using `beautiful_soup` using parser i.e `html5lib` or `html.parser`.\n"
   ]
  },
  {
   "cell_type": "code",
   "execution_count": 22,
   "id": "b23417ac-d5ec-42ab-b574-cc62df33ca34",
   "metadata": {},
   "outputs": [],
   "source": [
    "data2=requests.get(url).text\n",
    "soup=BeautifulSoup(data2,\"html5lib\")"
   ]
  },
  {
   "cell_type": "markdown",
   "id": "84d22d0a-573e-40ab-960f-c66c8bcfb5e5",
   "metadata": {},
   "source": [
    "Using `BeautifulSoup` or the `read_html` function extract the table with `GameStop Revenue` and store it into a dataframe named `gme_revenue`. The dataframe should have columns `Date` and `Revenue`. Make sure the comma and dollar sign is removed from the `Revenue` column.\n"
   ]
  },
  {
   "cell_type": "markdown",
   "id": "ed469983-c8bd-4e19-9489-3ec142864e5b",
   "metadata": {},
   "source": [
    "> **Note: Use the method similar to what you did in question 2.**  \n"
   ]
  },
  {
   "cell_type": "markdown",
   "id": "e19c7108-bf7f-408e-8bda-ea68ef899f24",
   "metadata": {},
   "source": [
    "<details><summary>Click here if you need help locating the table</summary>\n",
    "\n",
    "```\n",
    "    \n",
    "Below is the code to isolate the table, you will now need to loop through the rows and columns like in the previous lab\n",
    "    \n",
    "soup.find_all(\"tbody\")[1]\n",
    "    \n",
    "If you want to use the read_html function the table is located at index 1\n",
    "\n",
    "\n",
    "```\n",
    "\n",
    "</details>\n"
   ]
  },
  {
   "cell_type": "code",
   "execution_count": 23,
   "id": "5ca11ca4-99d2-4db1-a2e1-d6e74e61a35b",
   "metadata": {},
   "outputs": [
    {
     "name": "stdout",
     "output_type": "stream",
     "text": [
      "Table 0:\n",
      "   GameStop Annual Revenue (Millions of US $)  \\\n",
      "0                                        2020   \n",
      "1                                        2019   \n",
      "2                                        2018   \n",
      "3                                        2017   \n",
      "4                                        2016   \n",
      "\n",
      "  GameStop Annual Revenue (Millions of US $).1  \n",
      "0                                       $6,466  \n",
      "1                                       $8,285  \n",
      "2                                       $8,547  \n",
      "3                                       $7,965  \n",
      "4                                       $9,364   \n",
      "\n",
      "Table 1:\n",
      "  GameStop Quarterly Revenue (Millions of US $)  \\\n",
      "0                                    2020-04-30   \n",
      "1                                    2020-01-31   \n",
      "2                                    2019-10-31   \n",
      "3                                    2019-07-31   \n",
      "4                                    2019-04-30   \n",
      "\n",
      "  GameStop Quarterly Revenue (Millions of US $).1  \n",
      "0                                          $1,021  \n",
      "1                                          $2,194  \n",
      "2                                          $1,439  \n",
      "3                                          $1,286  \n",
      "4                                          $1,548   \n",
      "\n",
      "Table 2:\n",
      "                                              Sector  \\\n",
      "0                                   Retail/Wholesale   \n",
      "1  GameStop Corp. is the world's largest video ga...   \n",
      "\n",
      "                                            Industry  \\\n",
      "0                      Retail - Consumer Electronics   \n",
      "1  GameStop Corp. is the world's largest video ga...   \n",
      "\n",
      "                                          Market Cap  \\\n",
      "0                                            $0.293B   \n",
      "1  GameStop Corp. is the world's largest video ga...   \n",
      "\n",
      "                                             Revenue  \n",
      "0                                            $6.466B  \n",
      "1  GameStop Corp. is the world's largest video ga...   \n",
      "\n",
      "Table 3:\n",
      "                     Stock Name        Country Market Cap  PE Ratio\n",
      "0                Best Buy (BBY)  United States   $27.033B     18.16\n",
      "1                Aaron's, (AAN)  United States    $3.975B     15.14\n",
      "2  GOME Retail Holdings (GMELY)          China    $1.684B      0.00\n",
      "3                Systemax (SYX)  United States    $0.873B     18.34\n",
      "4                 Conn's (CONN)  United States    $0.325B      0.00 \n",
      "\n",
      "Table 4:\n",
      "                       Link Preview  HTML Code (Click to Copy)\n",
      "0  GameStop Revenue 2006-2020 | GME                        NaN\n",
      "1                       Macrotrends                        NaN\n",
      "2                            Source                        NaN \n",
      "\n",
      "Table 5:\n",
      "                       Link Preview  HTML Code (Click to Copy)\n",
      "0  GameStop Revenue 2006-2020 | GME                        NaN\n",
      "1                       Macrotrends                        NaN\n",
      "2                            Source                        NaN \n",
      "\n",
      "Index(['GameStop Quarterly Revenue (Millions of US $)', 'GameStop Quarterly Revenue (Millions of US $).1'], dtype='object')\n"
     ]
    }
   ],
   "source": [
    "tables = pd.read_html(url)\n",
    "for i, table in enumerate(tables):\n",
    "    print(f\"Table {i}:\")\n",
    "    print(table.head(), \"\\n\")  \n",
    "gme_revenue = tables[1]  \n",
    "\n",
    "# Checking the columns to find the relevant ones\n",
    "print(gme_revenue.columns)\n",
    "\n",
    "# For this example, assuming the columns we need are in positions 0 and 1\n",
    "# Adjust based on the actual table structure after inspection\n",
    "gme_revenue = gme_revenue.iloc[:, [0, 1]]\n",
    "\n",
    "# Renaming columns to 'Date' and 'Revenue'\n",
    "gme_revenue.columns = ['Date', 'Revenue']\n",
    "\n",
    "# Cleaning the 'Revenue' column: Remove any commas and dollar signs, convert to float\n",
    "gme_revenue['Revenue'] = gme_revenue['Revenue'].str.replace(',', '').str.replace('$', '').astype(float)"
   ]
  },
  {
   "cell_type": "markdown",
   "id": "f7cff945-b7f4-476a-8ffb-8cbdf4a98a35",
   "metadata": {},
   "source": [
    "Display the last five rows of the `gme_revenue` dataframe using the `tail` function. Take a screenshot of the results.\n"
   ]
  },
  {
   "cell_type": "code",
   "execution_count": 24,
   "id": "463e07d6-222d-46b0-815a-d4569a21872d",
   "metadata": {},
   "outputs": [
    {
     "data": {
      "text/html": [
       "<div>\n",
       "<style scoped>\n",
       "    .dataframe tbody tr th:only-of-type {\n",
       "        vertical-align: middle;\n",
       "    }\n",
       "\n",
       "    .dataframe tbody tr th {\n",
       "        vertical-align: top;\n",
       "    }\n",
       "\n",
       "    .dataframe thead th {\n",
       "        text-align: right;\n",
       "    }\n",
       "</style>\n",
       "<table border=\"1\" class=\"dataframe\">\n",
       "  <thead>\n",
       "    <tr style=\"text-align: right;\">\n",
       "      <th></th>\n",
       "      <th>Date</th>\n",
       "      <th>Revenue</th>\n",
       "    </tr>\n",
       "  </thead>\n",
       "  <tbody>\n",
       "    <tr>\n",
       "      <th>57</th>\n",
       "      <td>2006-01-31</td>\n",
       "      <td>1667.0</td>\n",
       "    </tr>\n",
       "    <tr>\n",
       "      <th>58</th>\n",
       "      <td>2005-10-31</td>\n",
       "      <td>534.0</td>\n",
       "    </tr>\n",
       "    <tr>\n",
       "      <th>59</th>\n",
       "      <td>2005-07-31</td>\n",
       "      <td>416.0</td>\n",
       "    </tr>\n",
       "    <tr>\n",
       "      <th>60</th>\n",
       "      <td>2005-04-30</td>\n",
       "      <td>475.0</td>\n",
       "    </tr>\n",
       "    <tr>\n",
       "      <th>61</th>\n",
       "      <td>2005-01-31</td>\n",
       "      <td>709.0</td>\n",
       "    </tr>\n",
       "  </tbody>\n",
       "</table>\n",
       "</div>"
      ],
      "text/plain": [
       "          Date  Revenue\n",
       "57  2006-01-31   1667.0\n",
       "58  2005-10-31    534.0\n",
       "59  2005-07-31    416.0\n",
       "60  2005-04-30    475.0\n",
       "61  2005-01-31    709.0"
      ]
     },
     "execution_count": 24,
     "metadata": {},
     "output_type": "execute_result"
    }
   ],
   "source": [
    "gme_revenue.tail()"
   ]
  },
  {
   "cell_type": "markdown",
   "id": "a845d309-d136-4ae0-9eac-d92912b90f3f",
   "metadata": {},
   "source": [
    "## Question 5: Plot Tesla Stock Graph\n"
   ]
  },
  {
   "cell_type": "markdown",
   "id": "061d4976-0513-48fa-b631-7e984e4c46df",
   "metadata": {},
   "source": [
    "Use the `make_graph` function to graph the Tesla Stock Data, also provide a title for the graph. Note the graph will only show data upto June 2021.\n"
   ]
  },
  {
   "cell_type": "markdown",
   "id": "4e0f388e-05a1-4741-9693-c8aec5089219",
   "metadata": {},
   "source": [
    "<details><summary>Hint</summary>\n",
    "\n",
    "```\n",
    "\n",
    "You just need to invoke the make_graph function with the required parameter to print the graphs.The structure to call the `make_graph` function is `make_graph(tesla_data, tesla_revenue, 'Tesla')`.\n",
    "\n",
    "```\n",
    "    \n",
    "</details>\n"
   ]
  },
  {
   "cell_type": "code",
   "execution_count": 31,
   "id": "a5812d9e-d92f-4c13-abbf-c9a22124d1de",
   "metadata": {},
   "outputs": [
    {
     "name": "stderr",
     "output_type": "stream",
     "text": [
      "[*********************100%%**********************]  1 of 1 completed\n"
     ]
    },
    {
     "data": {
      "image/png": "[encoded data removed]",
      "text/plain": [
       "<Figure size 1200x600 with 1 Axes>"
      ]
     },
     "metadata": {},
     "output_type": "display_data"
    }
   ],
   "source": [
    "def make_graph(stock_data, title):\n",
    "    plt.figure(figsize=(12, 6))\n",
    "    plt.plot(stock_data['Date'], stock_data['Close'], label='Tesla Stock Price', color='blue')\n",
    "    plt.xlabel('Date')\n",
    "    plt.ylabel('Stock Price ($)')\n",
    "    plt.title(title)\n",
    "    plt.legend()\n",
    "    plt.grid(True)\n",
    "    plt.show()\n",
    "\n",
    "# Extracting Tesla stock data from yfinance\n",
    "tesla_data = yf.download(\"TSLA\", start=\"2020-01-01\", end=\"2021-07-01\")\n",
    "\n",
    "# Resetting the index to make 'Date' a column\n",
    "tesla_data_reset = tesla_data.reset_index()\n",
    "\n",
    "# Filter data to include only up to June 2021\n",
    "tesla_data_filtered = tesla_data_reset[tesla_data_reset['Date'] <= '2021-06-30']\n",
    "\n",
    "# Plot the data\n",
    "make_graph(tesla_data_filtered, 'Tesla Stock Price up to June 2021')"
   ]
  },
  {
   "cell_type": "markdown",
   "id": "8bc649e9-df45-481a-b649-fd8d89782fed",
   "metadata": {},
   "source": [
    "## Question 6: Plot GameStop Stock Graph\n"
   ]
  },
  {
   "cell_type": "code",
   "execution_count": null,
   "metadata": {},
   "outputs": [],
   "source": []
  },
  {
   "cell_type": "markdown",
   "id": "1572f46e-690b-4c67-a704-852a32b41c79",
   "metadata": {},
   "source": [
    "Use the `make_graph` function to graph the GameStop Stock Data, also provide a title for the graph. The structure to call the `make_graph` function is `make_graph(gme_data, gme_revenue, 'GameStop')`. Note the graph will only show data upto June 2021.\n"
   ]
  },
  {
   "cell_type": "code",
   "execution_count": 32,
   "metadata": {},
   "outputs": [
    {
     "name": "stderr",
     "output_type": "stream",
     "text": [
      "[*********************100%%**********************]  1 of 1 completed\n"
     ]
    },
    {
     "data": {
      "image/png": "[encoded data removed]",
      "text/plain": [
       "<Figure size 1200x600 with 1 Axes>"
      ]
     },
     "metadata": {},
     "output_type": "display_data"
    }
   ],
   "source": [
    "def make_graph(stock_data, title):\n",
    "    plt.figure(figsize=(12, 6))\n",
    "    plt.plot(stock_data['Date'], stock_data['Close'], label='Tesla Stock Price', color='blue')\n",
    "    plt.xlabel('Date')\n",
    "    plt.ylabel('Stock Price ($)')\n",
    "    plt.title(title)\n",
    "    plt.legend()\n",
    "    plt.grid(True)\n",
    "    plt.show()\n",
    "\n",
    "# Extracting Tesla stock data from yfinance\n",
    "gme_data = yf.download(\"GME\", start=\"2020-01-01\", end=\"2021-07-01\")\n",
    "\n",
    "# Resetting the index to make 'Date' a column\n",
    "gme_data_reset = tesla_data.reset_index()\n",
    "\n",
    "# Filter data to include only up to June 2021\n",
    "gme_data_filtered = gme_data_reset[gme_data_reset['Date'] <= '2021-06-30']\n",
    "\n",
    "# Plot the data\n",
    "make_graph(gme_data_filtered, 'GameStop Stock Price up to June 2021')"
   ]
  },
  {
   "cell_type": "code",
   "execution_count": null,
   "metadata": {},
   "outputs": [],
   "source": []
  }
 ],
 "metadata": {
  "kernelspec": {
   "display_name": "Python 3 (ipykernel)",
   "language": "python",
   "name": "python3"
  },
  "language_info": {
   "codemirror_mode": {
    "name": "ipython",
    "version": 3
   },
   "file_extension": ".py",
   "mimetype": "text/x-python",
   "name": "python",
   "nbconvert_exporter": "python",
   "pygments_lexer": "ipython3",
   "version": "3.11.5"
  },
  "prev_pub_hash": "0e1ed37b24347028c4d205dd9ccb05037c0b9ef47ba572e89bba9291b9928d83"
 },
 "nbformat": 4,
 "nbformat_minor": 4
}
